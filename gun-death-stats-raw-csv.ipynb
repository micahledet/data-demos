{
 "cells": [
  {
   "cell_type": "markdown",
   "metadata": {},
   "source": [
    "dataset found here https://github.com/fivethirtyeight/guns-data"
   ]
  },
  {
   "cell_type": "code",
   "execution_count": 1,
   "metadata": {
    "collapsed": false,
    "scrolled": true
   },
   "outputs": [
    {
     "data": {
      "text/plain": [
       "[['',\n",
       "  'year',\n",
       "  'month',\n",
       "  'intent',\n",
       "  'police',\n",
       "  'sex',\n",
       "  'age',\n",
       "  'race',\n",
       "  'hispanic',\n",
       "  'place',\n",
       "  'education'],\n",
       " ['1',\n",
       "  '2012',\n",
       "  '01',\n",
       "  'Suicide',\n",
       "  '0',\n",
       "  'M',\n",
       "  '34',\n",
       "  'Asian/Pacific Islander',\n",
       "  '100',\n",
       "  'Home',\n",
       "  '4'],\n",
       " ['2', '2012', '01', 'Suicide', '0', 'F', '21', 'White', '100', 'Street', '3'],\n",
       " ['3',\n",
       "  '2012',\n",
       "  '01',\n",
       "  'Suicide',\n",
       "  '0',\n",
       "  'M',\n",
       "  '60',\n",
       "  'White',\n",
       "  '100',\n",
       "  'Other specified',\n",
       "  '4']]"
      ]
     },
     "execution_count": 1,
     "metadata": {},
     "output_type": "execute_result"
    }
   ],
   "source": [
    "#read gun control data into list of lists\n",
    "import csv\n",
    "import datetime\n",
    "f = open('guns.csv')\n",
    "data = list(csv.reader(f))\n",
    "data[0:4]"
   ]
  },
  {
   "cell_type": "code",
   "execution_count": 11,
   "metadata": {
    "collapsed": false
   },
   "outputs": [
    {
     "name": "stdout",
     "output_type": "stream",
     "text": [
      "['', 'year', 'month', 'intent', 'police', 'sex', 'age', 'race', 'hispanic', 'place', 'education']\n",
      "[['1', '2012', '01', 'Suicide', '0', 'M', '34', 'Asian/Pacific Islander', '100', 'Home', '4'], ['2', '2012', '01', 'Suicide', '0', 'F', '21', 'White', '100', 'Street', '3'], ['3', '2012', '01', 'Suicide', '0', 'M', '60', 'White', '100', 'Other specified', '4'], ['4', '2012', '02', 'Suicide', '0', 'M', '64', 'White', '100', 'Home', '4']]\n"
     ]
    }
   ],
   "source": [
    "headers = data[0]\n",
    "data = data[1:len(data)]\n",
    "print(headers)\n",
    "print(data[0:4])"
   ]
  },
  {
   "cell_type": "code",
   "execution_count": 12,
   "metadata": {
    "collapsed": false
   },
   "outputs": [
    {
     "name": "stdout",
     "output_type": "stream",
     "text": [
      "{'2014': 33599, '2013': 33636, '2012': 33563}\n"
     ]
    }
   ],
   "source": [
    "year_counts = {}\n",
    "for row in data:\n",
    "    years = row[1]\n",
    "    if years not in year_counts:\n",
    "        year_counts[years] = 1\n",
    "    else:\n",
    "        year_counts[years] += 1\n",
    "print(year_counts)"
   ]
  },
  {
   "cell_type": "code",
   "execution_count": 15,
   "metadata": {
    "collapsed": false
   },
   "outputs": [
    {
     "name": "stdout",
     "output_type": "stream",
     "text": [
      "{datetime.datetime(2013, 11, 1, 0, 0): 2758, datetime.datetime(2014, 4, 1, 0, 0): 2862, datetime.datetime(2013, 5, 1, 0, 0): 2806, datetime.datetime(2012, 3, 1, 0, 0): 2743, datetime.datetime(2013, 3, 1, 0, 0): 2862, datetime.datetime(2014, 5, 1, 0, 0): 2864, datetime.datetime(2014, 1, 1, 0, 0): 2651, datetime.datetime(2013, 6, 1, 0, 0): 2920, datetime.datetime(2012, 5, 1, 0, 0): 2999, datetime.datetime(2014, 11, 1, 0, 0): 2756, datetime.datetime(2014, 7, 1, 0, 0): 2884, datetime.datetime(2012, 4, 1, 0, 0): 2795, datetime.datetime(2012, 8, 1, 0, 0): 2954, datetime.datetime(2013, 1, 1, 0, 0): 2864, datetime.datetime(2012, 9, 1, 0, 0): 2852, datetime.datetime(2013, 4, 1, 0, 0): 2798, datetime.datetime(2014, 2, 1, 0, 0): 2361, datetime.datetime(2013, 10, 1, 0, 0): 2808, datetime.datetime(2014, 10, 1, 0, 0): 2865, datetime.datetime(2013, 9, 1, 0, 0): 2742, datetime.datetime(2012, 1, 1, 0, 0): 2758, datetime.datetime(2012, 2, 1, 0, 0): 2357, datetime.datetime(2013, 12, 1, 0, 0): 2765, datetime.datetime(2014, 6, 1, 0, 0): 2931, datetime.datetime(2013, 2, 1, 0, 0): 2375, datetime.datetime(2014, 3, 1, 0, 0): 2684, datetime.datetime(2012, 6, 1, 0, 0): 2826, datetime.datetime(2013, 7, 1, 0, 0): 3079, datetime.datetime(2014, 8, 1, 0, 0): 2970, datetime.datetime(2012, 7, 1, 0, 0): 3026, datetime.datetime(2014, 12, 1, 0, 0): 2857, datetime.datetime(2012, 12, 1, 0, 0): 2791, datetime.datetime(2012, 10, 1, 0, 0): 2733, datetime.datetime(2013, 8, 1, 0, 0): 2859, datetime.datetime(2012, 11, 1, 0, 0): 2729, datetime.datetime(2014, 9, 1, 0, 0): 2914}\n"
     ]
    }
   ],
   "source": [
    "#display how many deaths occurred by month\n",
    "date_counts = {}\n",
    "for row in data:\n",
    "    first = int(row[1])\n",
    "    second = int(row[2])\n",
    "    dates = datetime.datetime(year=first, month=second, day=1)\n",
    "    if dates not in date_counts:\n",
    "        date_counts[dates] = 1\n",
    "    else:\n",
    "        date_counts[dates] += 1\n",
    "print(date_counts)"
   ]
  },
  {
   "cell_type": "code",
   "execution_count": 17,
   "metadata": {
    "collapsed": false
   },
   "outputs": [
    {
     "name": "stdout",
     "output_type": "stream",
     "text": [
      "{'F': 14449, 'M': 86349}\n",
      "{'Black': 23296, 'Hispanic': 9022, 'White': 66237, 'Native American/Native Alaskan': 917, 'Asian/Pacific Islander': 1326}\n",
      "{'Undetermined': 807, 'NA': 1, 'Suicide': 63175, 'Accidental': 1639, 'Homicide': 35176}\n"
     ]
    }
   ],
   "source": [
    "#display gun deaths by sex and race and intent\n",
    "sex_counts = {}\n",
    "for row in data:\n",
    "    sex = row[5]\n",
    "    if sex not in sex_counts:\n",
    "        sex_counts[sex] = 1\n",
    "    else:\n",
    "        sex_counts[sex] += 1\n",
    "        \n",
    "race_counts = {}\n",
    "for row in data:\n",
    "    race = row[7]\n",
    "    if race not in race_counts:\n",
    "        race_counts[race] = 1\n",
    "    else:\n",
    "        race_counts[race] += 1\n",
    "        \n",
    "intent_counts = {}\n",
    "for row in data:\n",
    "    intent = row[3]\n",
    "    if intent not in intent_counts:\n",
    "        intent_counts[intent] = 1\n",
    "    else:\n",
    "        intent_counts[intent] += 1\n",
    "        \n",
    "print(sex_counts)\n",
    "print(race_counts)\n",
    "print(intent_counts)"
   ]
  },
  {
   "cell_type": "code",
   "execution_count": 19,
   "metadata": {
    "collapsed": false
   },
   "outputs": [
    {
     "name": "stdout",
     "output_type": "stream",
     "text": [
      "[['Id', 'Year', 'Id', 'Sex', 'Id', 'Hispanic Origin', 'Id', 'Id2', 'Geography', 'Total', 'Race Alone - White', 'Race Alone - Hispanic', 'Race Alone - Black or African American', 'Race Alone - American Indian and Alaska Native', 'Race Alone - Asian', 'Race Alone - Native Hawaiian and Other Pacific Islander', 'Two or More Races'], ['cen42010', 'April 1, 2010 Census', 'totsex', 'Both Sexes', 'tothisp', 'Total', '0100000US', '', 'United States', '308745538', '197318956', '44618105', '40250635', '3739506', '15159516', '674625', '6984195']]\n"
     ]
    }
   ],
   "source": [
    "#load census dataset\n",
    "g = open('census.csv')\n",
    "census = list(csv.reader(g))\n",
    "print(census)"
   ]
  },
  {
   "cell_type": "code",
   "execution_count": 23,
   "metadata": {
    "collapsed": false
   },
   "outputs": [
    {
     "name": "stdout",
     "output_type": "stream",
     "text": [
      "{'Black': 57.8773477735196, 'Asian/Pacific Islander': 8.374309664161762, 'Hispanic': 20.220491210910907, 'Native American/Native Alaskan': 24.521955573811088, 'White': 33.56849303419181}\n"
     ]
    }
   ],
   "source": [
    "#display the number of gun deaths per 100,000 citizens by race\n",
    "mapping = {\"Asian/Pacific Islander\": 15159516 + 674625 , \"Black\": 40250635 , \"Native American/Native Alaskan\": 3739506, \"Hispanic\":44618105, \"White\":197318956}\n",
    "race_per_hundredk = {}\n",
    "for key in race_counts:\n",
    "    race_per_hundredk[key] = (race_counts[key] / mapping[key]) * 100000\n",
    "    \n",
    "print(race_per_hundredk)"
   ]
  },
  {
   "cell_type": "code",
   "execution_count": 24,
   "metadata": {
    "collapsed": false
   },
   "outputs": [
    {
     "name": "stdout",
     "output_type": "stream",
     "text": [
      "{'Black': 19510, 'Hispanic': 5634, 'White': 9147, 'Native American/Native Alaskan': 326, 'Asian/Pacific Islander': 559}\n"
     ]
    }
   ],
   "source": [
    "intents = []\n",
    "for row in data:\n",
    "    intents.append(row[3])\n",
    "races = []\n",
    "for row in data:\n",
    "    races.append(row[7])\n",
    "    \n",
    "homicide_race_per_hundredk = {}\n",
    "for i,race in enumerate(races):\n",
    "    if intents[i] == 'Homicide':\n",
    "        if race not in homicide_race_per_hundredk:\n",
    "            homicide_race_per_hundredk[race] = 1\n",
    "        else: homicide_race_per_hundredk[race] += 1\n",
    "            \n",
    "print(homicide_race_per_hundredk)"
   ]
  },
  {
   "cell_type": "code",
   "execution_count": 25,
   "metadata": {
    "collapsed": true
   },
   "outputs": [],
   "source": [
    "for key in homicide_race_per_hundredk:\n",
    "    homicide_race_per_hundredk[key] = (homicide_race_per_hundredk[key] / mapping[key]) * 100000"
   ]
  },
  {
   "cell_type": "code",
   "execution_count": 26,
   "metadata": {
    "collapsed": false
   },
   "outputs": [
    {
     "name": "stdout",
     "output_type": "stream",
     "text": [
      "{'Black': 48.471284987180944, 'Hispanic': 12.627161104219914, 'White': 4.6356417981453335, 'Native American/Native Alaskan': 8.717729026240365, 'Asian/Pacific Islander': 3.530346230970155}\n"
     ]
    }
   ],
   "source": [
    "print(homicide_race_per_hundredk)"
   ]
  },
  {
   "cell_type": "code",
   "execution_count": null,
   "metadata": {
    "collapsed": true
   },
   "outputs": [],
   "source": []
  }
 ],
 "metadata": {
  "kernelspec": {
   "display_name": "Python 3",
   "language": "python",
   "name": "python3"
  },
  "language_info": {
   "codemirror_mode": {
    "name": "ipython",
    "version": 3
   },
   "file_extension": ".py",
   "mimetype": "text/x-python",
   "name": "python",
   "nbconvert_exporter": "python",
   "pygments_lexer": "ipython3",
   "version": "3.4.3"
  }
 },
 "nbformat": 4,
 "nbformat_minor": 0
}
