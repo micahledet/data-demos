{
 "cells": [
  {
   "cell_type": "markdown",
   "metadata": {},
   "source": [
    "## The Dataset\n",
    "This dataset contains U.S. birth data for the years 1994 - 2003. The columns correspond to Year, Month, Day of Month, Day of Week, and Number of Births. The dataset was compiled by FiveThirtyEight and can be found here: https://github.com/fivethirtyeight/data/tree/master/births"
   ]
  },
  {
   "cell_type": "markdown",
   "metadata": {},
   "source": [
    "## Converting the CSV file into a list of lists"
   ]
  },
  {
   "cell_type": "code",
   "execution_count": 52,
   "metadata": {
    "collapsed": false
   },
   "outputs": [],
   "source": [
    "def read_csv(file_name):\n",
    "    \"\"\"Split a CSV file into rows and convert values to int\"\"\"\n",
    "    f = open(file_name, 'r')\n",
    "    raw_data = f.read()\n",
    "    split_data = raw_data.split('\\n')\n",
    "    string_list = split_data[1:]\n",
    "    final_list = []    \n",
    "    for row in string_list:\n",
    "        int_fields = []\n",
    "        string_fields = row.split(',')\n",
    "        for string in string_fields:\n",
    "            int_fields.append(int(string))\n",
    "        final_list.append(int_fields)\n",
    "    return final_list"
   ]
  },
  {
   "cell_type": "code",
   "execution_count": 53,
   "metadata": {
    "collapsed": false,
    "scrolled": true
   },
   "outputs": [
    {
     "data": {
      "text/plain": [
       "[[1994, 1, 1, 6, 8096],\n",
       " [1994, 1, 2, 7, 7772],\n",
       " [1994, 1, 3, 1, 10142],\n",
       " [1994, 1, 4, 2, 11248],\n",
       " [1994, 1, 5, 3, 11053],\n",
       " [1994, 1, 6, 4, 11406],\n",
       " [1994, 1, 7, 5, 11251],\n",
       " [1994, 1, 8, 6, 8653],\n",
       " [1994, 1, 9, 7, 7910],\n",
       " [1994, 1, 10, 1, 10498]]"
      ]
     },
     "execution_count": 53,
     "metadata": {},
     "output_type": "execute_result"
    }
   ],
   "source": [
    "cdc_list = read_csv(\"US_births_1994-2003_CDC_NCHS.csv\")\n",
    "#view the first 10 rows\n",
    "cdc_list[:10]"
   ]
  },
  {
   "cell_type": "markdown",
   "metadata": {},
   "source": [
    "## Calculating the number of births per month"
   ]
  },
  {
   "cell_type": "code",
   "execution_count": 54,
   "metadata": {
    "collapsed": true
   },
   "outputs": [],
   "source": [
    "def month_births(list_of_lists_data):\n",
    "    \"\"\"Create dict with keys as months, values as total births\"\"\"\n",
    "    births_per_month = {}\n",
    "    for row in list_of_lists_data:\n",
    "        month = row[1]\n",
    "        births = row[4]\n",
    "        if month not in births_per_month:\n",
    "            births_per_month[month] = births\n",
    "        else:\n",
    "            births_per_month[month] += births\n",
    "    return births_per_month"
   ]
  },
  {
   "cell_type": "code",
   "execution_count": 55,
   "metadata": {
    "collapsed": false
   },
   "outputs": [
    {
     "data": {
      "text/plain": [
       "{1: 3232517,\n",
       " 2: 3018140,\n",
       " 3: 3322069,\n",
       " 4: 3185314,\n",
       " 5: 3350907,\n",
       " 6: 3296530,\n",
       " 7: 3498783,\n",
       " 8: 3525858,\n",
       " 9: 3439698,\n",
       " 10: 3378814,\n",
       " 11: 3171647,\n",
       " 12: 3301860}"
      ]
     },
     "execution_count": 55,
     "metadata": {},
     "output_type": "execute_result"
    }
   ],
   "source": [
    "cdc_month_births = month_births(cdc_list)\n",
    "cdc_month_births"
   ]
  },
  {
   "cell_type": "markdown",
   "metadata": {},
   "source": [
    "## Calculating the number of births per day of the week"
   ]
  },
  {
   "cell_type": "code",
   "execution_count": 56,
   "metadata": {
    "collapsed": true
   },
   "outputs": [],
   "source": [
    "def dow_births(list_of_lists_data):\n",
    "    \"\"\"Create dict with keys as days, values as total births\"\"\"\n",
    "    births_per_day = {}\n",
    "    for row in list_of_lists_data:\n",
    "        day = row[3]\n",
    "        births = row[4]\n",
    "        if day not in births_per_day:\n",
    "            births_per_day[day] = births\n",
    "        else:\n",
    "            births_per_day[day] += births\n",
    "    return births_per_day"
   ]
  },
  {
   "cell_type": "code",
   "execution_count": 57,
   "metadata": {
    "collapsed": false
   },
   "outputs": [
    {
     "data": {
      "text/plain": [
       "{1: 5789166,\n",
       " 2: 6446196,\n",
       " 3: 6322855,\n",
       " 4: 6288429,\n",
       " 5: 6233657,\n",
       " 6: 4562111,\n",
       " 7: 4079723}"
      ]
     },
     "execution_count": 57,
     "metadata": {},
     "output_type": "execute_result"
    }
   ],
   "source": [
    "cdc_day_births = dow_births(cdc_list)\n",
    "cdc_day_births"
   ]
  },
  {
   "cell_type": "markdown",
   "metadata": {},
   "source": [
    "## Creating a general function to calculate birth frequency for a column"
   ]
  },
  {
   "cell_type": "code",
   "execution_count": 58,
   "metadata": {
    "collapsed": true
   },
   "outputs": [],
   "source": [
    "def calc_counts(list_of_lists_data, column):\n",
    "    \"\"\"Create dict with keys as unique column entries, values as total births\"\"\"\n",
    "    birth_freq = {}\n",
    "    for row in list_of_lists_data:\n",
    "        calc = row[column]\n",
    "        births = row[4]\n",
    "        if calc not in birth_freq:\n",
    "            birth_freq[calc] = births\n",
    "        else: \n",
    "            birth_freq[calc] += births\n",
    "    return birth_freq    "
   ]
  },
  {
   "cell_type": "markdown",
   "metadata": {},
   "source": [
    "## Creating a function to show some basic statistics for a column"
   ]
  },
  {
   "cell_type": "code",
   "execution_count": 59,
   "metadata": {
    "collapsed": false
   },
   "outputs": [],
   "source": [
    "def basic_stats(frequency_dict):\n",
    "    \"\"\" a) create a list of the dict's keys and values; \n",
    "        b) find max and min pairs along with average\"\"\"  \n",
    "    values = list(frequency_dict.values())\n",
    "    keys = list(frequency_dict.keys())\n",
    "    max_pair = (keys[values.index(max(values))], max(values))\n",
    "    min_pair = (keys[values.index(min(values))], min(values))\n",
    "    avg = sum(values) / len(values)\n",
    "    message = \"\"\"\n",
    "          Maximum: {max_pair}\n",
    "          Minimum: {min_pair}\n",
    "          Average: {average}\n",
    "          \"\"\"\n",
    "    print (message.format(max_pair = max_pair, min_pair = min_pair, average = avg))"
   ]
  },
  {
   "cell_type": "code",
   "execution_count": 62,
   "metadata": {
    "collapsed": false
   },
   "outputs": [
    {
     "name": "stdout",
     "output_type": "stream",
     "text": [
      "\n",
      "          Maximum: (2003, 4089950)\n",
      "          Minimum: (1997, 3880894)\n",
      "          Average: 3972213.7\n",
      "          \n"
     ]
    },
    {
     "data": {
      "text/plain": [
       "({1994: 3952767,\n",
       "  1995: 3899589,\n",
       "  1996: 3891494,\n",
       "  1997: 3880894,\n",
       "  1998: 3941553,\n",
       "  1999: 3959417,\n",
       "  2000: 4058814,\n",
       "  2001: 4025933,\n",
       "  2002: 4021726,\n",
       "  2003: 4089950},\n",
       " None)"
      ]
     },
     "execution_count": 62,
     "metadata": {},
     "output_type": "execute_result"
    }
   ],
   "source": [
    "# year birth statistics\n",
    "cdc_year_births = calc_counts(cdc_list, 0)\n",
    "year_birth_statistics = basic_stats(cdc_year_births)\n",
    "cdc_year_births, year_birth_statistics"
   ]
  },
  {
   "cell_type": "code",
   "execution_count": 63,
   "metadata": {
    "collapsed": false
   },
   "outputs": [
    {
     "name": "stdout",
     "output_type": "stream",
     "text": [
      "\n",
      "          Maximum: (8, 3525858)\n",
      "          Minimum: (2, 3018140)\n",
      "          Average: 3310178.0833333335\n",
      "          \n"
     ]
    },
    {
     "data": {
      "text/plain": [
       "({1: 3232517,\n",
       "  2: 3018140,\n",
       "  3: 3322069,\n",
       "  4: 3185314,\n",
       "  5: 3350907,\n",
       "  6: 3296530,\n",
       "  7: 3498783,\n",
       "  8: 3525858,\n",
       "  9: 3439698,\n",
       "  10: 3378814,\n",
       "  11: 3171647,\n",
       "  12: 3301860},\n",
       " None)"
      ]
     },
     "execution_count": 63,
     "metadata": {},
     "output_type": "execute_result"
    }
   ],
   "source": [
    "# month birth statistics\n",
    "cdc_month_births = calc_counts(cdc_list, 1)\n",
    "month_birth_statistics = basic_stats(cdc_month_births)\n",
    "cdc_month_births, month_birth_statistics"
   ]
  },
  {
   "cell_type": "code",
   "execution_count": 64,
   "metadata": {
    "collapsed": false
   },
   "outputs": [
    {
     "name": "stdout",
     "output_type": "stream",
     "text": [
      "\n",
      "          Maximum: (18, 1326855)\n",
      "          Minimum: (31, 746696)\n",
      "          Average: 1281359.2580645161\n",
      "          \n"
     ]
    },
    {
     "data": {
      "text/plain": [
       "({1: 1276557,\n",
       "  2: 1288739,\n",
       "  3: 1304499,\n",
       "  4: 1288154,\n",
       "  5: 1299953,\n",
       "  6: 1304474,\n",
       "  7: 1310459,\n",
       "  8: 1312297,\n",
       "  9: 1303292,\n",
       "  10: 1320764,\n",
       "  11: 1314361,\n",
       "  12: 1318437,\n",
       "  13: 1277684,\n",
       "  14: 1320153,\n",
       "  15: 1319171,\n",
       "  16: 1315192,\n",
       "  17: 1324953,\n",
       "  18: 1326855,\n",
       "  19: 1318727,\n",
       "  20: 1324821,\n",
       "  21: 1322897,\n",
       "  22: 1317381,\n",
       "  23: 1293290,\n",
       "  24: 1288083,\n",
       "  25: 1272116,\n",
       "  26: 1284796,\n",
       "  27: 1294395,\n",
       "  28: 1307685,\n",
       "  29: 1223161,\n",
       "  30: 1202095,\n",
       "  31: 746696},\n",
       " None)"
      ]
     },
     "execution_count": 64,
     "metadata": {},
     "output_type": "execute_result"
    }
   ],
   "source": [
    "# day of month statistics\n",
    "cdc_dom_births = calc_counts(cdc_list, 2)\n",
    "dom_birth_statistics = basic_stats(cdc_dom_births)\n",
    "cdc_dom_births, dom_birth_statistics"
   ]
  },
  {
   "cell_type": "code",
   "execution_count": 65,
   "metadata": {
    "collapsed": false
   },
   "outputs": [
    {
     "name": "stdout",
     "output_type": "stream",
     "text": [
      "\n",
      "          Maximum: (2, 6446196)\n",
      "          Minimum: (7, 4079723)\n",
      "          Average: 5674591.0\n",
      "          \n"
     ]
    },
    {
     "data": {
      "text/plain": [
       "({1: 5789166,\n",
       "  2: 6446196,\n",
       "  3: 6322855,\n",
       "  4: 6288429,\n",
       "  5: 6233657,\n",
       "  6: 4562111,\n",
       "  7: 4079723},\n",
       " None)"
      ]
     },
     "execution_count": 65,
     "metadata": {},
     "output_type": "execute_result"
    }
   ],
   "source": [
    "# day of week birth statistics\n",
    "cdc_dow_births = calc_counts(cdc_list, 3)\n",
    "dow_birth_statistics = basic_stats(cdc_dow_births)\n",
    "cdc_dow_births, dow_birth_statistics"
   ]
  },
  {
   "cell_type": "code",
   "execution_count": null,
   "metadata": {
    "collapsed": true
   },
   "outputs": [],
   "source": []
  }
 ],
 "metadata": {
  "anaconda-cloud": {},
  "kernelspec": {
   "display_name": "Python 3",
   "language": "python",
   "name": "python3"
  },
  "language_info": {
   "codemirror_mode": {
    "name": "ipython",
    "version": 3
   },
   "file_extension": ".py",
   "mimetype": "text/x-python",
   "name": "python",
   "nbconvert_exporter": "python",
   "pygments_lexer": "ipython3",
   "version": "3.4.3"
  }
 },
 "nbformat": 4,
 "nbformat_minor": 1
}
